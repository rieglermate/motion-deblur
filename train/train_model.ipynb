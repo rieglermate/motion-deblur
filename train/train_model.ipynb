{
  "cells": [
    {
      "cell_type": "code",
      "execution_count": 1,
      "metadata": {
        "colab": {
          "base_uri": "https://localhost:8080/"
        },
        "id": "EVxFkzNae4xt",
        "outputId": "3819c31d-2f75-4639-8a8d-709d37bbcf8b"
      },
      "outputs": [
        {
          "output_type": "stream",
          "name": "stdout",
          "text": [
            "Drive already mounted at /content/drive; to attempt to forcibly remount, call drive.mount(\"/content/drive\", force_remount=True).\n"
          ]
        }
      ],
      "source": [
        "# Mount Drive\n",
        "\n",
        "from google.colab import drive\n",
        "\n",
        "drive.mount('/content/drive')"
      ],
      "id": "EVxFkzNae4xt"
    },
    {
      "cell_type": "code",
      "execution_count": 2,
      "metadata": {
        "colab": {
          "base_uri": "https://localhost:8080/"
        },
        "id": "iTM9d0gHwTaF",
        "outputId": "16993bfa-a2ad-4571-e5be-fee17732c426"
      },
      "outputs": [
        {
          "output_type": "stream",
          "name": "stdout",
          "text": [
            "Mon Nov 14 15:30:37 2022       \n",
            "+-----------------------------------------------------------------------------+\n",
            "| NVIDIA-SMI 460.32.03    Driver Version: 460.32.03    CUDA Version: 11.2     |\n",
            "|-------------------------------+----------------------+----------------------+\n",
            "| GPU  Name        Persistence-M| Bus-Id        Disp.A | Volatile Uncorr. ECC |\n",
            "| Fan  Temp  Perf  Pwr:Usage/Cap|         Memory-Usage | GPU-Util  Compute M. |\n",
            "|                               |                      |               MIG M. |\n",
            "|===============================+======================+======================|\n",
            "|   0  Tesla T4            Off  | 00000000:00:04.0 Off |                    0 |\n",
            "| N/A   75C    P0    32W /  70W |      0MiB / 15109MiB |      0%      Default |\n",
            "|                               |                      |                  N/A |\n",
            "+-------------------------------+----------------------+----------------------+\n",
            "                                                                               \n",
            "+-----------------------------------------------------------------------------+\n",
            "| Processes:                                                                  |\n",
            "|  GPU   GI   CI        PID   Type   Process name                  GPU Memory |\n",
            "|        ID   ID                                                   Usage      |\n",
            "|=============================================================================|\n",
            "|  No running processes found                                                 |\n",
            "+-----------------------------------------------------------------------------+\n"
          ]
        }
      ],
      "source": [
        "gpu_info = !nvidia-smi\n",
        "gpu_info = '\\n'.join(gpu_info)\n",
        "if gpu_info.find('failed') >= 0:\n",
        "  print('Not connected to a GPU')\n",
        "else:\n",
        "  print(gpu_info)"
      ],
      "id": "iTM9d0gHwTaF"
    },
    {
      "cell_type": "code",
      "execution_count": 3,
      "metadata": {
        "colab": {
          "base_uri": "https://localhost:8080/"
        },
        "id": "OYb4_XF5hmOs",
        "outputId": "1fab870e-6b0c-4ec1-961c-b8173053822c"
      },
      "outputs": [
        {
          "output_type": "stream",
          "name": "stdout",
          "text": [
            "--2022-11-14 15:30:37--  https://www.dropbox.com/s/04w3wqxcuin9dy8/HIDE_dataset.zip?dl=0\n",
            "Resolving www.dropbox.com (www.dropbox.com)... 162.125.4.18, 2620:100:601b:18::a27d:812\n",
            "Connecting to www.dropbox.com (www.dropbox.com)|162.125.4.18|:443... connected.\n",
            "HTTP request sent, awaiting response... 302 Found\n",
            "Location: /s/raw/04w3wqxcuin9dy8/HIDE_dataset.zip [following]\n",
            "--2022-11-14 15:30:39--  https://www.dropbox.com/s/raw/04w3wqxcuin9dy8/HIDE_dataset.zip\n",
            "Reusing existing connection to www.dropbox.com:443.\n",
            "HTTP request sent, awaiting response... 302 Found\n",
            "Location: https://uc13da0cc81d93d4c9695ccf24b5.dl.dropboxusercontent.com/cd/0/inline/BwuLaxhcU3IV1tOEq7L6ax-dUdoQFjJ5YixyFbzK_50vmbhhtiDsHD5qf2xyLLcS4Q6t44AwSZ-WLSGS7uR77416OHKjd3VNSrXGiXNHBmhNMMzALQVMz-RSROvUfp0VUrC8dZX2N_15wYZrMwSjU_MGntI6HN6TQDIXZxYwjyw9iw/file# [following]\n",
            "--2022-11-14 15:30:39--  https://uc13da0cc81d93d4c9695ccf24b5.dl.dropboxusercontent.com/cd/0/inline/BwuLaxhcU3IV1tOEq7L6ax-dUdoQFjJ5YixyFbzK_50vmbhhtiDsHD5qf2xyLLcS4Q6t44AwSZ-WLSGS7uR77416OHKjd3VNSrXGiXNHBmhNMMzALQVMz-RSROvUfp0VUrC8dZX2N_15wYZrMwSjU_MGntI6HN6TQDIXZxYwjyw9iw/file\n",
            "Resolving uc13da0cc81d93d4c9695ccf24b5.dl.dropboxusercontent.com (uc13da0cc81d93d4c9695ccf24b5.dl.dropboxusercontent.com)... 162.125.3.15, 2620:100:6019:15::a27d:40f\n",
            "Connecting to uc13da0cc81d93d4c9695ccf24b5.dl.dropboxusercontent.com (uc13da0cc81d93d4c9695ccf24b5.dl.dropboxusercontent.com)|162.125.3.15|:443... connected.\n",
            "HTTP request sent, awaiting response... 302 Found\n",
            "Location: /cd/0/inline2/BwsrpXzpwDM4Y3rRASHrxuLayyGmijcpdzlGASwRJxPUAqrV0b4BZRDU0lKPeocyIzgq9oyaHrAZmV8gIYSItENg7VSKgPY2xj94rNHBWRnZGPl25s606hz0NAPElK66T1bjudhwSvKBLXzKgwh8S8_W9WIQInyzZGADn2rRalMPiii_RBDBhqRmnbZGIMv8sElTS-UfhcFIz4d3PR_WLQYpsyOk1mXSdT-llBVBh4e1iV-BZph_BJItA87qC4LcSeq9xpGRWUIucV2pkajxOZPBrQo7GU-PemFMt_BZpY8LHQocwWlaqNonbcD5pOFtZdHT9aNLSZL5yicWxTCNKbRVPgVi_axOWYrvlo5mKxtBe14P2hSUyYMSgESdhaYk22w8_kIR5f4GowADaSOpm5PzjBlBBzsunfBZzWcCOXhqTA/file [following]\n",
            "--2022-11-14 15:30:40--  https://uc13da0cc81d93d4c9695ccf24b5.dl.dropboxusercontent.com/cd/0/inline2/BwsrpXzpwDM4Y3rRASHrxuLayyGmijcpdzlGASwRJxPUAqrV0b4BZRDU0lKPeocyIzgq9oyaHrAZmV8gIYSItENg7VSKgPY2xj94rNHBWRnZGPl25s606hz0NAPElK66T1bjudhwSvKBLXzKgwh8S8_W9WIQInyzZGADn2rRalMPiii_RBDBhqRmnbZGIMv8sElTS-UfhcFIz4d3PR_WLQYpsyOk1mXSdT-llBVBh4e1iV-BZph_BJItA87qC4LcSeq9xpGRWUIucV2pkajxOZPBrQo7GU-PemFMt_BZpY8LHQocwWlaqNonbcD5pOFtZdHT9aNLSZL5yicWxTCNKbRVPgVi_axOWYrvlo5mKxtBe14P2hSUyYMSgESdhaYk22w8_kIR5f4GowADaSOpm5PzjBlBBzsunfBZzWcCOXhqTA/file\n",
            "Reusing existing connection to uc13da0cc81d93d4c9695ccf24b5.dl.dropboxusercontent.com:443.\n",
            "HTTP request sent, awaiting response... 200 OK\n",
            "Length: 16975767237 (16G) [application/zip]\n",
            "Saving to: ‘/tmp/HIDE_dataset.zip’\n",
            "\n",
            "/tmp/HIDE_dataset.z 100%[===================>]  15.81G  89.1MB/s    in 3m 1s   \n",
            "\n",
            "2022-11-14 15:33:41 (89.5 MB/s) - ‘/tmp/HIDE_dataset.zip’ saved [16975767237/16975767237]\n",
            "\n"
          ]
        }
      ],
      "source": [
        "# Download dataset\n",
        "\n",
        "# Relies on HIDE dataset found here: https://github.com/joanshen0508/HA_deblur\n",
        "!wget --no-check-certificate \\\n",
        "    \"https://www.dropbox.com/s/04w3wqxcuin9dy8/HIDE_dataset.zip?dl=0\" \\\n",
        "    -O \"/tmp/HIDE_dataset.zip\""
      ],
      "id": "OYb4_XF5hmOs"
    },
    {
      "cell_type": "code",
      "execution_count": 4,
      "metadata": {
        "id": "6cwn3fFUaYLw"
      },
      "outputs": [],
      "source": [
        "# Exctract dataset\n",
        "\n",
        "import zipfile\n",
        "\n",
        "with zipfile.ZipFile('/tmp/HIDE_dataset.zip', 'r') as zip_ref:\n",
        "  zip_ref.extractall('/tmp')"
      ],
      "id": "6cwn3fFUaYLw"
    },
    {
      "cell_type": "code",
      "execution_count": 5,
      "metadata": {
        "id": "ea6ebf29"
      },
      "outputs": [],
      "source": [
        "# Imports\n",
        "\n",
        "import os\n",
        "import cv2\n",
        "from PIL import Image\n",
        "import numpy as np\n",
        "import matplotlib.pyplot as plt\n",
        "import tensorflow as tf\n",
        "from tensorflow import keras"
      ],
      "id": "ea6ebf29"
    },
    {
      "cell_type": "code",
      "execution_count": 6,
      "metadata": {
        "colab": {
          "base_uri": "https://localhost:8080/"
        },
        "id": "64583e7f",
        "outputId": "eb55a486-3c9a-4218-e23f-e865116cdcaf"
      },
      "outputs": [
        {
          "output_type": "stream",
          "name": "stdout",
          "text": [
            "Num GPUs Available:  1\n"
          ]
        }
      ],
      "source": [
        "# Check GPU\n",
        "\n",
        "print(\"Num GPUs Available: \", len(tf.config.list_physical_devices('GPU')))"
      ],
      "id": "64583e7f"
    },
    {
      "cell_type": "code",
      "execution_count": 7,
      "metadata": {
        "id": "c2ec2fb1"
      },
      "outputs": [],
      "source": [
        "# Prepare paths for dataset\n",
        "\n",
        "width, height = 256, 144\n",
        "# width, height = 848, 480\n",
        "\n",
        "DATASET_DIR = \"/tmp/HIDE_dataset/\"\n",
        "\n",
        "TRAIN_FNAME = DATASET_DIR+\"train.txt\"\n",
        "# TEST_FNAME  = DATASET_DIR+\"test.txt\"\n",
        "\n",
        "GT_DIR    = DATASET_DIR+\"GT/\"\n",
        "TRAIN_DIR = DATASET_DIR+\"train/\"\n",
        "# TEST_DIR  = DATASET_DIR+\"test/test-all/\"\n",
        "\n",
        "def get_filenames(txt_path):\n",
        "   with open(txt_path, \"r\") as f:\n",
        "       filenames = [l.rstrip(\"\\n\") for l in f.readlines()]\n",
        "       return filenames\n",
        "\n",
        "train_names = get_filenames(TRAIN_FNAME)\n",
        "# test_names  = get_filenames(TEST_FNAME)"
      ],
      "id": "c2ec2fb1"
    },
    {
      "cell_type": "code",
      "execution_count": 8,
      "metadata": {
        "id": "478aa855"
      },
      "outputs": [],
      "source": [
        "# Create a generator (a Sequence object) because dataset can't fit in GPU memory\n",
        "\n",
        "from tensorflow.keras.utils import Sequence\n",
        "import random\n",
        "\n",
        "BATCH_SIZE = 64\n",
        "\n",
        "# based on:\n",
        "# https://stackoverflow.com/questions/62916904/failed-copying-input-tensor-from-cpu-to-gpu-in-order-to-run-gatherve-dst-tensor\n",
        "\n",
        "class TrainGenerator(Sequence):\n",
        "    def __init__(self, fnames, batch_size):\n",
        "        self.fnames = fnames\n",
        "        self.batch_size = batch_size\n",
        "        self.rng = random.Random(42)\n",
        "\n",
        "    def __len__(self):\n",
        "        return int(np.ceil(len(self.fnames) / self.batch_size))\n",
        "\n",
        "    def __getitem__(self, idx):\n",
        "        batch_names = self.fnames[idx * self.batch_size:(idx + 1) * self.batch_size]\n",
        "        \n",
        "        batch_x = np.empty((self.batch_size, width, height, 3), dtype=np.float32, order='C')\n",
        "        batch_y = np.empty((self.batch_size, width, height, 3), dtype=np.float32, order='C')\n",
        "        \n",
        "        for i, fname in enumerate(batch_names):\n",
        "            gt = Image.open(GT_DIR+fname)\n",
        "            gt = gt.resize((width,height), resample=Image.LANCZOS)#resample=Image.Resampling.LANCZOS)\n",
        "            gt = np.asarray(gt, dtype=np.float32)/255\n",
        "            gt = gt.transpose((1, 0, 2))\n",
        "            batch_y[i,...] = gt\n",
        "            blur = Image.open(TRAIN_DIR+fname)\n",
        "            blur = blur.resize((width,height), resample=Image.LANCZOS)#resample=Image.Resampling.LANCZOS)\n",
        "            blur = np.asarray(blur, dtype=np.float32)/255\n",
        "            blur = blur.transpose((1, 0, 2))\n",
        "            batch_x[i,...] = blur\n",
        "        \n",
        "        return (batch_x, batch_y)\n",
        "    \n",
        "    def on_epoch_end(self):\n",
        "        self.rng.shuffle(self.fnames)"
      ],
      "id": "478aa855"
    },
    {
      "cell_type": "code",
      "execution_count": 9,
      "metadata": {
        "id": "rsjJQKhAcYmq"
      },
      "outputs": [],
      "source": [
        "# Train-test split\n",
        "\n",
        "from sklearn.model_selection import train_test_split\n",
        "\n",
        "f_train, f_val = train_test_split(\n",
        "    train_names, test_size=0.2, random_state=42)\n",
        "\n",
        "gen_train = TrainGenerator(f_train, BATCH_SIZE)\n",
        "gen_val   = TrainGenerator(f_val,  BATCH_SIZE)"
      ],
      "id": "rsjJQKhAcYmq"
    },
    {
      "cell_type": "code",
      "execution_count": 10,
      "metadata": {
        "id": "26929c4a"
      },
      "outputs": [],
      "source": [
        "# Import model layers\n",
        "\n",
        "from keras.models import Model\n",
        "from keras.layers import Input, Conv2D, Conv2DTranspose, MaxPooling2D, concatenate, LeakyReLU\n",
        "from keras import activations"
      ],
      "id": "26929c4a"
    },
    {
      "cell_type": "code",
      "execution_count": 11,
      "metadata": {
        "id": "75bc1ead"
      },
      "outputs": [],
      "source": [
        "# model_4\n",
        "\n",
        "def create_model_4():\n",
        "    inp_shape = (width, height, 3)\n",
        "    filter_size = 64\n",
        "    \n",
        "    def conv_block(inp, i):\n",
        "        conv = Conv2D(filter_size * (2**i), (3, 3), padding='same')(inp)\n",
        "        conv = LeakyReLU()(conv)\n",
        "        conv = Conv2D(filter_size * (2**i), (3, 3), padding='same')(conv)\n",
        "        conv = LeakyReLU()(conv)\n",
        "        pool = MaxPooling2D((2, 2))(conv)\n",
        "        return pool, conv\n",
        "    \n",
        "    def bottleneck(inp, i):\n",
        "        conv = Conv2D(filter_size * (2**i), (3, 3), padding='same')(inp)\n",
        "        conv = LeakyReLU()(conv)\n",
        "        conv = Conv2D(filter_size * (2**i), (3, 3), padding='same')(conv)\n",
        "        conv = LeakyReLU()(conv)\n",
        "        return conv\n",
        "    \n",
        "    def deconv_block(inp, shortcut, i):\n",
        "        deconv = Conv2DTranspose(filter_size * (2**i), (3, 3), strides=(2, 2), padding=\"same\")(inp)\n",
        "        uconv  = concatenate([shortcut, deconv])\n",
        "        uconv  = Conv2D(filter_size * (2**i), (3, 3), padding=\"same\")(uconv)\n",
        "        uconv  = LeakyReLU()(uconv)\n",
        "        uconv  = Conv2D(filter_size * (2**i), (3, 3), padding=\"same\")(uconv)\n",
        "        uconv  = LeakyReLU()(uconv)\n",
        "        return uconv\n",
        "    \n",
        "    #contracting half\n",
        "    inp = Input(inp_shape, batch_size=BATCH_SIZE)\n",
        "    conv0, pre_pool0 = conv_block(inp,   0)\n",
        "    conv1, pre_pool1 = conv_block(conv0, 1)\n",
        "    conv2, pre_pool2 = conv_block(conv1, 2)\n",
        "    conv3, pre_pool3 = conv_block(conv2, 3)\n",
        "    mid              = bottleneck(conv3, 4)\n",
        "    deconv3          = deconv_block(mid,     pre_pool3, 3)\n",
        "    deconv2          = deconv_block(deconv3, pre_pool2, 2)\n",
        "    deconv1          = deconv_block(deconv2, pre_pool1, 1)\n",
        "    deconv0          = deconv_block(deconv1, pre_pool0, 0)\n",
        "    out = Conv2D(3, (1, 1), activation='sigmoid')(deconv0)\n",
        "    model = Model(inputs=[inp], outputs=[out])\n",
        "    return model"
      ],
      "id": "75bc1ead"
    },
    {
      "cell_type": "code",
      "execution_count": 12,
      "metadata": {
        "id": "41b2111a"
      },
      "outputs": [],
      "source": [
        "# Mixed gradient error\n",
        "# https://medium.com/analytics-vidhya/loss-functions-for-image-super-resolution-sisr-8a65644fbd85\n",
        "\n",
        "from keras.losses import MeanAbsoluteError, MeanSquaredError\n",
        "\n",
        "mae = MeanAbsoluteError()\n",
        "mse = MeanSquaredError()\n",
        "\n",
        "def MeanGradientError(targets, outputs, weight):\n",
        "    filter_x = tf.tile(tf.expand_dims(tf.constant([[-1, -2, -1], [0, 0, 0], [1, 2, 1]], dtype = np.float32), axis = -1), [1, 1, 3])\n",
        "    filter_x = tf.tile(tf.expand_dims(filter_x, axis = -1), [1, 1, 1, 3])\n",
        "    filter_y = tf.tile(tf.expand_dims(tf.constant([[-1, 0, 1], [-2, 0, 2], [-1, 0, 1]], dtype = np.float32), axis = -1), [1, 1, 3])\n",
        "    filter_y = tf.tile(tf.expand_dims(filter_y, axis = -1), [1, 1, 1, 3])\n",
        "    \n",
        "    outputs = tf.transpose(outputs, perm=[0, 2, 1, 3])\n",
        "    targets = tf.transpose(targets, perm=[0, 2, 1, 3])\n",
        "\n",
        "    # output gradient\n",
        "    output_gradient_x = tf.math.square(tf.nn.conv2d(outputs, filter_x, strides = 1, padding = 'SAME'))\n",
        "    output_gradient_y = tf.math.square(tf.nn.conv2d(outputs, filter_y, strides = 1, padding = 'SAME'))\n",
        "\n",
        "    #target gradient\n",
        "    target_gradient_x = tf.math.square(tf.nn.conv2d(targets, filter_x, strides = 1, padding = 'SAME'))\n",
        "    target_gradient_y = tf.math.square(tf.nn.conv2d(targets, filter_y, strides = 1, padding = 'SAME'))\n",
        "\n",
        "    # square\n",
        "    output_gradients = tf.math.sqrt(tf.math.add(output_gradient_x, output_gradient_y))\n",
        "    target_gradients = tf.math.sqrt(tf.math.add(target_gradient_x, target_gradient_y))\n",
        "\n",
        "    # compute mean gradient error\n",
        "    mge = tf.math.reduce_sum(tf.math.squared_difference(output_gradients, target_gradients)) / (BATCH_SIZE * width * height)\n",
        "\n",
        "    return mge * weight\n",
        "\n",
        "def MixedGradientError(y_true, y_pred):\n",
        "    return mse(y_true, y_pred) + MeanGradientError(y_true, y_pred, weight = 0.01)"
      ],
      "id": "41b2111a"
    },
    {
      "cell_type": "code",
      "execution_count": 13,
      "metadata": {
        "colab": {
          "base_uri": "https://localhost:8080/"
        },
        "id": "907189b5",
        "outputId": "fcff92b8-4f57-4134-b7c9-b6a041452c00",
        "scrolled": true
      },
      "outputs": [
        {
          "output_type": "stream",
          "name": "stdout",
          "text": [
            "Model: \"model\"\n",
            "__________________________________________________________________________________________________\n",
            " Layer (type)                   Output Shape         Param #     Connected to                     \n",
            "==================================================================================================\n",
            " input_1 (InputLayer)           [(64, 256, 144, 3)]  0           []                               \n",
            "                                                                                                  \n",
            " conv2d (Conv2D)                (64, 256, 144, 64)   1792        ['input_1[0][0]']                \n",
            "                                                                                                  \n",
            " leaky_re_lu (LeakyReLU)        (64, 256, 144, 64)   0           ['conv2d[0][0]']                 \n",
            "                                                                                                  \n",
            " conv2d_1 (Conv2D)              (64, 256, 144, 64)   36928       ['leaky_re_lu[0][0]']            \n",
            "                                                                                                  \n",
            " leaky_re_lu_1 (LeakyReLU)      (64, 256, 144, 64)   0           ['conv2d_1[0][0]']               \n",
            "                                                                                                  \n",
            " max_pooling2d (MaxPooling2D)   (64, 128, 72, 64)    0           ['leaky_re_lu_1[0][0]']          \n",
            "                                                                                                  \n",
            " conv2d_2 (Conv2D)              (64, 128, 72, 128)   73856       ['max_pooling2d[0][0]']          \n",
            "                                                                                                  \n",
            " leaky_re_lu_2 (LeakyReLU)      (64, 128, 72, 128)   0           ['conv2d_2[0][0]']               \n",
            "                                                                                                  \n",
            " conv2d_3 (Conv2D)              (64, 128, 72, 128)   147584      ['leaky_re_lu_2[0][0]']          \n",
            "                                                                                                  \n",
            " leaky_re_lu_3 (LeakyReLU)      (64, 128, 72, 128)   0           ['conv2d_3[0][0]']               \n",
            "                                                                                                  \n",
            " max_pooling2d_1 (MaxPooling2D)  (64, 64, 36, 128)   0           ['leaky_re_lu_3[0][0]']          \n",
            "                                                                                                  \n",
            " conv2d_4 (Conv2D)              (64, 64, 36, 256)    295168      ['max_pooling2d_1[0][0]']        \n",
            "                                                                                                  \n",
            " leaky_re_lu_4 (LeakyReLU)      (64, 64, 36, 256)    0           ['conv2d_4[0][0]']               \n",
            "                                                                                                  \n",
            " conv2d_5 (Conv2D)              (64, 64, 36, 256)    590080      ['leaky_re_lu_4[0][0]']          \n",
            "                                                                                                  \n",
            " leaky_re_lu_5 (LeakyReLU)      (64, 64, 36, 256)    0           ['conv2d_5[0][0]']               \n",
            "                                                                                                  \n",
            " max_pooling2d_2 (MaxPooling2D)  (64, 32, 18, 256)   0           ['leaky_re_lu_5[0][0]']          \n",
            "                                                                                                  \n",
            " conv2d_6 (Conv2D)              (64, 32, 18, 512)    1180160     ['max_pooling2d_2[0][0]']        \n",
            "                                                                                                  \n",
            " leaky_re_lu_6 (LeakyReLU)      (64, 32, 18, 512)    0           ['conv2d_6[0][0]']               \n",
            "                                                                                                  \n",
            " conv2d_7 (Conv2D)              (64, 32, 18, 512)    2359808     ['leaky_re_lu_6[0][0]']          \n",
            "                                                                                                  \n",
            " leaky_re_lu_7 (LeakyReLU)      (64, 32, 18, 512)    0           ['conv2d_7[0][0]']               \n",
            "                                                                                                  \n",
            " max_pooling2d_3 (MaxPooling2D)  (64, 16, 9, 512)    0           ['leaky_re_lu_7[0][0]']          \n",
            "                                                                                                  \n",
            " conv2d_8 (Conv2D)              (64, 16, 9, 1024)    4719616     ['max_pooling2d_3[0][0]']        \n",
            "                                                                                                  \n",
            " leaky_re_lu_8 (LeakyReLU)      (64, 16, 9, 1024)    0           ['conv2d_8[0][0]']               \n",
            "                                                                                                  \n",
            " conv2d_9 (Conv2D)              (64, 16, 9, 1024)    9438208     ['leaky_re_lu_8[0][0]']          \n",
            "                                                                                                  \n",
            " leaky_re_lu_9 (LeakyReLU)      (64, 16, 9, 1024)    0           ['conv2d_9[0][0]']               \n",
            "                                                                                                  \n",
            " conv2d_transpose (Conv2DTransp  (64, 32, 18, 512)   4719104     ['leaky_re_lu_9[0][0]']          \n",
            " ose)                                                                                             \n",
            "                                                                                                  \n",
            " concatenate (Concatenate)      (64, 32, 18, 1024)   0           ['leaky_re_lu_7[0][0]',          \n",
            "                                                                  'conv2d_transpose[0][0]']       \n",
            "                                                                                                  \n",
            " conv2d_10 (Conv2D)             (64, 32, 18, 512)    4719104     ['concatenate[0][0]']            \n",
            "                                                                                                  \n",
            " leaky_re_lu_10 (LeakyReLU)     (64, 32, 18, 512)    0           ['conv2d_10[0][0]']              \n",
            "                                                                                                  \n",
            " conv2d_11 (Conv2D)             (64, 32, 18, 512)    2359808     ['leaky_re_lu_10[0][0]']         \n",
            "                                                                                                  \n",
            " leaky_re_lu_11 (LeakyReLU)     (64, 32, 18, 512)    0           ['conv2d_11[0][0]']              \n",
            "                                                                                                  \n",
            " conv2d_transpose_1 (Conv2DTran  (64, 64, 36, 256)   1179904     ['leaky_re_lu_11[0][0]']         \n",
            " spose)                                                                                           \n",
            "                                                                                                  \n",
            " concatenate_1 (Concatenate)    (64, 64, 36, 512)    0           ['leaky_re_lu_5[0][0]',          \n",
            "                                                                  'conv2d_transpose_1[0][0]']     \n",
            "                                                                                                  \n",
            " conv2d_12 (Conv2D)             (64, 64, 36, 256)    1179904     ['concatenate_1[0][0]']          \n",
            "                                                                                                  \n",
            " leaky_re_lu_12 (LeakyReLU)     (64, 64, 36, 256)    0           ['conv2d_12[0][0]']              \n",
            "                                                                                                  \n",
            " conv2d_13 (Conv2D)             (64, 64, 36, 256)    590080      ['leaky_re_lu_12[0][0]']         \n",
            "                                                                                                  \n",
            " leaky_re_lu_13 (LeakyReLU)     (64, 64, 36, 256)    0           ['conv2d_13[0][0]']              \n",
            "                                                                                                  \n",
            " conv2d_transpose_2 (Conv2DTran  (64, 128, 72, 128)  295040      ['leaky_re_lu_13[0][0]']         \n",
            " spose)                                                                                           \n",
            "                                                                                                  \n",
            " concatenate_2 (Concatenate)    (64, 128, 72, 256)   0           ['leaky_re_lu_3[0][0]',          \n",
            "                                                                  'conv2d_transpose_2[0][0]']     \n",
            "                                                                                                  \n",
            " conv2d_14 (Conv2D)             (64, 128, 72, 128)   295040      ['concatenate_2[0][0]']          \n",
            "                                                                                                  \n",
            " leaky_re_lu_14 (LeakyReLU)     (64, 128, 72, 128)   0           ['conv2d_14[0][0]']              \n",
            "                                                                                                  \n",
            " conv2d_15 (Conv2D)             (64, 128, 72, 128)   147584      ['leaky_re_lu_14[0][0]']         \n",
            "                                                                                                  \n",
            " leaky_re_lu_15 (LeakyReLU)     (64, 128, 72, 128)   0           ['conv2d_15[0][0]']              \n",
            "                                                                                                  \n",
            " conv2d_transpose_3 (Conv2DTran  (64, 256, 144, 64)  73792       ['leaky_re_lu_15[0][0]']         \n",
            " spose)                                                                                           \n",
            "                                                                                                  \n",
            " concatenate_3 (Concatenate)    (64, 256, 144, 128)  0           ['leaky_re_lu_1[0][0]',          \n",
            "                                                                  'conv2d_transpose_3[0][0]']     \n",
            "                                                                                                  \n",
            " conv2d_16 (Conv2D)             (64, 256, 144, 64)   73792       ['concatenate_3[0][0]']          \n",
            "                                                                                                  \n",
            " leaky_re_lu_16 (LeakyReLU)     (64, 256, 144, 64)   0           ['conv2d_16[0][0]']              \n",
            "                                                                                                  \n",
            " conv2d_17 (Conv2D)             (64, 256, 144, 64)   36928       ['leaky_re_lu_16[0][0]']         \n",
            "                                                                                                  \n",
            " leaky_re_lu_17 (LeakyReLU)     (64, 256, 144, 64)   0           ['conv2d_17[0][0]']              \n",
            "                                                                                                  \n",
            " conv2d_18 (Conv2D)             (64, 256, 144, 3)    195         ['leaky_re_lu_17[0][0]']         \n",
            "                                                                                                  \n",
            "==================================================================================================\n",
            "Total params: 34,513,475\n",
            "Trainable params: 34,513,475\n",
            "Non-trainable params: 0\n",
            "__________________________________________________________________________________________________\n"
          ]
        }
      ],
      "source": [
        "# Compile model with Adam optimizer\n",
        "\n",
        "model = create_model_4()\n",
        "lr_schedule = keras.optimizers.schedules.CosineDecayRestarts(initial_learning_rate=0.005, first_decay_steps=3*80, t_mul=2.0, m_mul=1.0)\n",
        "opt = keras.optimizers.Adam(lr_schedule, epsilon=0.001)\n",
        "model.compile(optimizer=opt, loss=MixedGradientError, metrics=[\"mean_squared_error\", \"mean_absolute_error\"])\n",
        "model.summary()"
      ],
      "id": "907189b5"
    },
    {
      "cell_type": "code",
      "execution_count": 14,
      "metadata": {
        "colab": {
          "base_uri": "https://localhost:8080/",
          "height": 1000
        },
        "id": "90e383be",
        "scrolled": true,
        "outputId": "847bfab3-2503-4e04-f1e0-bef58818bd45"
      },
      "outputs": [
        {
          "output_type": "stream",
          "name": "stdout",
          "text": [
            "Epoch 1/93\n",
            "80/80 [==============================] - 694s 8s/step - loss: 0.0666 - mean_squared_error: 0.0238 - mean_absolute_error: 0.1157 - val_loss: 0.0342 - val_mean_squared_error: 0.0092 - val_mean_absolute_error: 0.0736\n",
            "Epoch 2/93\n",
            "80/80 [==============================] - 656s 8s/step - loss: 0.0297 - mean_squared_error: 0.0062 - mean_absolute_error: 0.0550 - val_loss: 0.0275 - val_mean_squared_error: 0.0052 - val_mean_absolute_error: 0.0486\n",
            "Epoch 3/93\n",
            "80/80 [==============================] - 654s 8s/step - loss: 0.0277 - mean_squared_error: 0.0051 - mean_absolute_error: 0.0476 - val_loss: 0.0271 - val_mean_squared_error: 0.0049 - val_mean_absolute_error: 0.0468\n",
            "Epoch 4/93\n",
            "80/80 [==============================] - 655s 8s/step - loss: 0.0264 - mean_squared_error: 0.0046 - mean_absolute_error: 0.0448 - val_loss: 0.0250 - val_mean_squared_error: 0.0044 - val_mean_absolute_error: 0.0429\n",
            "Epoch 5/93\n",
            "80/80 [==============================] - 659s 8s/step - loss: 0.0254 - mean_squared_error: 0.0045 - mean_absolute_error: 0.0437 - val_loss: 0.0245 - val_mean_squared_error: 0.0043 - val_mean_absolute_error: 0.0422\n",
            "Epoch 6/93\n",
            "80/80 [==============================] - 659s 8s/step - loss: 0.0249 - mean_squared_error: 0.0043 - mean_absolute_error: 0.0424 - val_loss: 0.0242 - val_mean_squared_error: 0.0042 - val_mean_absolute_error: 0.0415\n",
            "Epoch 7/93\n",
            "80/80 [==============================] - 656s 8s/step - loss: 0.0247 - mean_squared_error: 0.0042 - mean_absolute_error: 0.0417 - val_loss: 0.0240 - val_mean_squared_error: 0.0041 - val_mean_absolute_error: 0.0409\n",
            "Epoch 8/93\n",
            "80/80 [==============================] - 654s 8s/step - loss: 0.0246 - mean_squared_error: 0.0042 - mean_absolute_error: 0.0413 - val_loss: 0.0240 - val_mean_squared_error: 0.0041 - val_mean_absolute_error: 0.0407\n",
            "Epoch 9/93\n",
            "80/80 [==============================] - 655s 8s/step - loss: 0.0246 - mean_squared_error: 0.0042 - mean_absolute_error: 0.0412 - val_loss: 0.0240 - val_mean_squared_error: 0.0041 - val_mean_absolute_error: 0.0407\n",
            "Epoch 10/93\n",
            "80/80 [==============================] - 662s 8s/step - loss: 0.0355 - mean_squared_error: 0.0115 - mean_absolute_error: 0.0701 - val_loss: 0.0248 - val_mean_squared_error: 0.0042 - val_mean_absolute_error: 0.0414\n",
            "Epoch 11/93\n",
            "80/80 [==============================] - 662s 8s/step - loss: 0.0249 - mean_squared_error: 0.0042 - mean_absolute_error: 0.0410 - val_loss: 0.0240 - val_mean_squared_error: 0.0040 - val_mean_absolute_error: 0.0399\n",
            "Epoch 12/93\n",
            "80/80 [==============================] - 663s 8s/step - loss: 0.0244 - mean_squared_error: 0.0041 - mean_absolute_error: 0.0399 - val_loss: 0.0237 - val_mean_squared_error: 0.0039 - val_mean_absolute_error: 0.0392\n",
            "Epoch 13/93\n",
            "80/80 [==============================] - 656s 8s/step - loss: 0.0242 - mean_squared_error: 0.0040 - mean_absolute_error: 0.0393 - val_loss: 0.0235 - val_mean_squared_error: 0.0039 - val_mean_absolute_error: 0.0389\n",
            "Epoch 14/93\n",
            "80/80 [==============================] - 659s 8s/step - loss: 0.0240 - mean_squared_error: 0.0039 - mean_absolute_error: 0.0389 - val_loss: 0.0233 - val_mean_squared_error: 0.0038 - val_mean_absolute_error: 0.0381\n",
            "Epoch 15/93\n",
            "80/80 [==============================] - 656s 8s/step - loss: 0.0239 - mean_squared_error: 0.0039 - mean_absolute_error: 0.0384 - val_loss: 0.0232 - val_mean_squared_error: 0.0037 - val_mean_absolute_error: 0.0375\n",
            "Epoch 16/93\n",
            "80/80 [==============================] - 659s 8s/step - loss: 0.0238 - mean_squared_error: 0.0039 - mean_absolute_error: 0.0383 - val_loss: 0.0232 - val_mean_squared_error: 0.0038 - val_mean_absolute_error: 0.0379\n",
            "Epoch 17/93\n",
            "80/80 [==============================] - 655s 8s/step - loss: 0.0237 - mean_squared_error: 0.0038 - mean_absolute_error: 0.0382 - val_loss: 0.0231 - val_mean_squared_error: 0.0037 - val_mean_absolute_error: 0.0375\n",
            "Epoch 18/93\n",
            "80/80 [==============================] - 658s 8s/step - loss: 0.0237 - mean_squared_error: 0.0038 - mean_absolute_error: 0.0381 - val_loss: 0.0231 - val_mean_squared_error: 0.0037 - val_mean_absolute_error: 0.0374\n",
            "Epoch 19/93\n",
            "80/80 [==============================] - 660s 8s/step - loss: 0.0237 - mean_squared_error: 0.0038 - mean_absolute_error: 0.0381 - val_loss: 0.0231 - val_mean_squared_error: 0.0037 - val_mean_absolute_error: 0.0375\n",
            "Epoch 20/93\n",
            "80/80 [==============================] - 658s 8s/step - loss: 0.0237 - mean_squared_error: 0.0038 - mean_absolute_error: 0.0381 - val_loss: 0.0231 - val_mean_squared_error: 0.0037 - val_mean_absolute_error: 0.0375\n",
            "Epoch 21/93\n",
            "80/80 [==============================] - 656s 8s/step - loss: 0.0237 - mean_squared_error: 0.0038 - mean_absolute_error: 0.0380 - val_loss: 0.0231 - val_mean_squared_error: 0.0037 - val_mean_absolute_error: 0.0375\n",
            "Epoch 22/93\n",
            "80/80 [==============================] - 653s 8s/step - loss: 0.0237 - mean_squared_error: 0.0039 - mean_absolute_error: 0.0384 - val_loss: 0.0230 - val_mean_squared_error: 0.0037 - val_mean_absolute_error: 0.0372\n",
            "Epoch 23/93\n",
            "80/80 [==============================] - 654s 8s/step - loss: 0.0236 - mean_squared_error: 0.0038 - mean_absolute_error: 0.0382 - val_loss: 0.0229 - val_mean_squared_error: 0.0038 - val_mean_absolute_error: 0.0382\n",
            "Epoch 24/93\n",
            "80/80 [==============================] - 655s 8s/step - loss: 0.0235 - mean_squared_error: 0.0038 - mean_absolute_error: 0.0380 - val_loss: 0.0228 - val_mean_squared_error: 0.0037 - val_mean_absolute_error: 0.0374\n",
            "Epoch 25/93\n",
            "80/80 [==============================] - 658s 8s/step - loss: 0.0234 - mean_squared_error: 0.0038 - mean_absolute_error: 0.0380 - val_loss: 0.0227 - val_mean_squared_error: 0.0037 - val_mean_absolute_error: 0.0372\n",
            "Epoch 26/93\n",
            "80/80 [==============================] - 657s 8s/step - loss: 0.0234 - mean_squared_error: 0.0038 - mean_absolute_error: 0.0382 - val_loss: 0.0227 - val_mean_squared_error: 0.0037 - val_mean_absolute_error: 0.0376\n",
            "Epoch 27/93\n",
            "80/80 [==============================] - 654s 8s/step - loss: 0.0233 - mean_squared_error: 0.0038 - mean_absolute_error: 0.0378 - val_loss: 0.0226 - val_mean_squared_error: 0.0037 - val_mean_absolute_error: 0.0373\n",
            "Epoch 28/93\n",
            "80/80 [==============================] - 655s 8s/step - loss: 0.0232 - mean_squared_error: 0.0038 - mean_absolute_error: 0.0379 - val_loss: 0.0226 - val_mean_squared_error: 0.0037 - val_mean_absolute_error: 0.0369\n",
            "Epoch 29/93\n",
            "80/80 [==============================] - 653s 8s/step - loss: 0.0232 - mean_squared_error: 0.0038 - mean_absolute_error: 0.0382 - val_loss: 0.0225 - val_mean_squared_error: 0.0037 - val_mean_absolute_error: 0.0373\n",
            "Epoch 30/93\n",
            "80/80 [==============================] - 655s 8s/step - loss: 0.0231 - mean_squared_error: 0.0038 - mean_absolute_error: 0.0377 - val_loss: 0.0226 - val_mean_squared_error: 0.0037 - val_mean_absolute_error: 0.0384\n",
            "Epoch 31/93\n",
            "80/80 [==============================] - 658s 8s/step - loss: 0.0231 - mean_squared_error: 0.0038 - mean_absolute_error: 0.0379 - val_loss: 0.0224 - val_mean_squared_error: 0.0036 - val_mean_absolute_error: 0.0365\n",
            "Epoch 32/93\n",
            "80/80 [==============================] - 661s 8s/step - loss: 0.0230 - mean_squared_error: 0.0038 - mean_absolute_error: 0.0376 - val_loss: 0.0223 - val_mean_squared_error: 0.0036 - val_mean_absolute_error: 0.0367\n",
            "Epoch 33/93\n",
            "80/80 [==============================] - 656s 8s/step - loss: 0.0229 - mean_squared_error: 0.0037 - mean_absolute_error: 0.0374 - val_loss: 0.0222 - val_mean_squared_error: 0.0036 - val_mean_absolute_error: 0.0369\n",
            "Epoch 34/93\n",
            "80/80 [==============================] - 660s 8s/step - loss: 0.0228 - mean_squared_error: 0.0037 - mean_absolute_error: 0.0374 - val_loss: 0.0222 - val_mean_squared_error: 0.0036 - val_mean_absolute_error: 0.0368\n",
            "Epoch 35/93\n",
            "80/80 [==============================] - 660s 8s/step - loss: 0.0228 - mean_squared_error: 0.0037 - mean_absolute_error: 0.0374 - val_loss: 0.0221 - val_mean_squared_error: 0.0036 - val_mean_absolute_error: 0.0367\n",
            "Epoch 36/93\n",
            "80/80 [==============================] - 658s 8s/step - loss: 0.0228 - mean_squared_error: 0.0037 - mean_absolute_error: 0.0375 - val_loss: 0.0221 - val_mean_squared_error: 0.0036 - val_mean_absolute_error: 0.0362\n",
            "Epoch 37/93\n",
            "80/80 [==============================] - 680s 8s/step - loss: 0.0227 - mean_squared_error: 0.0037 - mean_absolute_error: 0.0372 - val_loss: 0.0221 - val_mean_squared_error: 0.0036 - val_mean_absolute_error: 0.0373\n",
            "Epoch 38/93\n",
            "80/80 [==============================] - 674s 8s/step - loss: 0.0226 - mean_squared_error: 0.0037 - mean_absolute_error: 0.0372 - val_loss: 0.0220 - val_mean_squared_error: 0.0036 - val_mean_absolute_error: 0.0371\n",
            "Epoch 39/93\n",
            "80/80 [==============================] - 661s 8s/step - loss: 0.0226 - mean_squared_error: 0.0037 - mean_absolute_error: 0.0372 - val_loss: 0.0220 - val_mean_squared_error: 0.0036 - val_mean_absolute_error: 0.0369\n",
            "Epoch 40/93\n",
            "80/80 [==============================] - 659s 8s/step - loss: 0.0226 - mean_squared_error: 0.0037 - mean_absolute_error: 0.0371 - val_loss: 0.0220 - val_mean_squared_error: 0.0036 - val_mean_absolute_error: 0.0365\n",
            "Epoch 41/93\n",
            "80/80 [==============================] - 664s 8s/step - loss: 0.0226 - mean_squared_error: 0.0037 - mean_absolute_error: 0.0372 - val_loss: 0.0219 - val_mean_squared_error: 0.0036 - val_mean_absolute_error: 0.0367\n",
            "Epoch 42/93\n",
            "80/80 [==============================] - 667s 8s/step - loss: 0.0226 - mean_squared_error: 0.0037 - mean_absolute_error: 0.0371 - val_loss: 0.0219 - val_mean_squared_error: 0.0036 - val_mean_absolute_error: 0.0366\n",
            "Epoch 43/93\n",
            "80/80 [==============================] - 669s 8s/step - loss: 0.0225 - mean_squared_error: 0.0037 - mean_absolute_error: 0.0370 - val_loss: 0.0219 - val_mean_squared_error: 0.0036 - val_mean_absolute_error: 0.0366\n",
            "Epoch 44/93\n",
            "80/80 [==============================] - 666s 8s/step - loss: 0.0226 - mean_squared_error: 0.0037 - mean_absolute_error: 0.0371 - val_loss: 0.0219 - val_mean_squared_error: 0.0036 - val_mean_absolute_error: 0.0365\n",
            "Epoch 45/93\n",
            "80/80 [==============================] - 661s 8s/step - loss: 0.0226 - mean_squared_error: 0.0038 - mean_absolute_error: 0.0371 - val_loss: 0.0219 - val_mean_squared_error: 0.0036 - val_mean_absolute_error: 0.0365\n",
            "Epoch 46/93\n",
            "80/80 [==============================] - ETA: 0s - loss: nan - mean_squared_error: nan - mean_absolute_error: nan"
          ]
        },
        {
          "output_type": "error",
          "ename": "KeyboardInterrupt",
          "evalue": "ignored",
          "traceback": [
            "\u001b[0;31m---------------------------------------------------------------------------\u001b[0m",
            "\u001b[0;31mKeyboardInterrupt\u001b[0m                         Traceback (most recent call last)",
            "\u001b[0;32m<ipython-input-14-78ae845c14c2>\u001b[0m in \u001b[0;36m<module>\u001b[0;34m\u001b[0m\n\u001b[1;32m     23\u001b[0m                        \u001b[0mvalidation_data\u001b[0m\u001b[0;34m=\u001b[0m\u001b[0mgen_val\u001b[0m\u001b[0;34m,\u001b[0m\u001b[0;34m\u001b[0m\u001b[0;34m\u001b[0m\u001b[0m\n\u001b[1;32m     24\u001b[0m                        \u001b[0mcallbacks\u001b[0m\u001b[0;34m=\u001b[0m\u001b[0;34m[\u001b[0m\u001b[0mtensorboard_callback\u001b[0m\u001b[0;34m,\u001b[0m \u001b[0msave_callback\u001b[0m\u001b[0;34m]\u001b[0m\u001b[0;34m,\u001b[0m\u001b[0;34m\u001b[0m\u001b[0;34m\u001b[0m\u001b[0m\n\u001b[0;32m---> 25\u001b[0;31m                        \u001b[0mverbose\u001b[0m\u001b[0;34m=\u001b[0m\u001b[0;36m1\u001b[0m\u001b[0;34m\u001b[0m\u001b[0;34m\u001b[0m\u001b[0m\n\u001b[0m\u001b[1;32m     26\u001b[0m     )\n",
            "\u001b[0;32m/usr/local/lib/python3.7/dist-packages/keras/utils/traceback_utils.py\u001b[0m in \u001b[0;36merror_handler\u001b[0;34m(*args, **kwargs)\u001b[0m\n\u001b[1;32m     62\u001b[0m     \u001b[0mfiltered_tb\u001b[0m \u001b[0;34m=\u001b[0m \u001b[0;32mNone\u001b[0m\u001b[0;34m\u001b[0m\u001b[0;34m\u001b[0m\u001b[0m\n\u001b[1;32m     63\u001b[0m     \u001b[0;32mtry\u001b[0m\u001b[0;34m:\u001b[0m\u001b[0;34m\u001b[0m\u001b[0;34m\u001b[0m\u001b[0m\n\u001b[0;32m---> 64\u001b[0;31m       \u001b[0;32mreturn\u001b[0m \u001b[0mfn\u001b[0m\u001b[0;34m(\u001b[0m\u001b[0;34m*\u001b[0m\u001b[0margs\u001b[0m\u001b[0;34m,\u001b[0m \u001b[0;34m**\u001b[0m\u001b[0mkwargs\u001b[0m\u001b[0;34m)\u001b[0m\u001b[0;34m\u001b[0m\u001b[0;34m\u001b[0m\u001b[0m\n\u001b[0m\u001b[1;32m     65\u001b[0m     \u001b[0;32mexcept\u001b[0m \u001b[0mException\u001b[0m \u001b[0;32mas\u001b[0m \u001b[0me\u001b[0m\u001b[0;34m:\u001b[0m  \u001b[0;31m# pylint: disable=broad-except\u001b[0m\u001b[0;34m\u001b[0m\u001b[0;34m\u001b[0m\u001b[0m\n\u001b[1;32m     66\u001b[0m       \u001b[0mfiltered_tb\u001b[0m \u001b[0;34m=\u001b[0m \u001b[0m_process_traceback_frames\u001b[0m\u001b[0;34m(\u001b[0m\u001b[0me\u001b[0m\u001b[0;34m.\u001b[0m\u001b[0m__traceback__\u001b[0m\u001b[0;34m)\u001b[0m\u001b[0;34m\u001b[0m\u001b[0;34m\u001b[0m\u001b[0m\n",
            "\u001b[0;32m/usr/local/lib/python3.7/dist-packages/keras/engine/training.py\u001b[0m in \u001b[0;36mfit\u001b[0;34m(self, x, y, batch_size, epochs, verbose, callbacks, validation_split, validation_data, shuffle, class_weight, sample_weight, initial_epoch, steps_per_epoch, validation_steps, validation_batch_size, validation_freq, max_queue_size, workers, use_multiprocessing)\u001b[0m\n\u001b[1;32m   1454\u001b[0m               \u001b[0muse_multiprocessing\u001b[0m\u001b[0;34m=\u001b[0m\u001b[0muse_multiprocessing\u001b[0m\u001b[0;34m,\u001b[0m\u001b[0;34m\u001b[0m\u001b[0;34m\u001b[0m\u001b[0m\n\u001b[1;32m   1455\u001b[0m               \u001b[0mreturn_dict\u001b[0m\u001b[0;34m=\u001b[0m\u001b[0;32mTrue\u001b[0m\u001b[0;34m,\u001b[0m\u001b[0;34m\u001b[0m\u001b[0;34m\u001b[0m\u001b[0m\n\u001b[0;32m-> 1456\u001b[0;31m               _use_cached_eval_dataset=True)\n\u001b[0m\u001b[1;32m   1457\u001b[0m           \u001b[0mval_logs\u001b[0m \u001b[0;34m=\u001b[0m \u001b[0;34m{\u001b[0m\u001b[0;34m'val_'\u001b[0m \u001b[0;34m+\u001b[0m \u001b[0mname\u001b[0m\u001b[0;34m:\u001b[0m \u001b[0mval\u001b[0m \u001b[0;32mfor\u001b[0m \u001b[0mname\u001b[0m\u001b[0;34m,\u001b[0m \u001b[0mval\u001b[0m \u001b[0;32min\u001b[0m \u001b[0mval_logs\u001b[0m\u001b[0;34m.\u001b[0m\u001b[0mitems\u001b[0m\u001b[0;34m(\u001b[0m\u001b[0;34m)\u001b[0m\u001b[0;34m}\u001b[0m\u001b[0;34m\u001b[0m\u001b[0;34m\u001b[0m\u001b[0m\n\u001b[1;32m   1458\u001b[0m           \u001b[0mepoch_logs\u001b[0m\u001b[0;34m.\u001b[0m\u001b[0mupdate\u001b[0m\u001b[0;34m(\u001b[0m\u001b[0mval_logs\u001b[0m\u001b[0;34m)\u001b[0m\u001b[0;34m\u001b[0m\u001b[0;34m\u001b[0m\u001b[0m\n",
            "\u001b[0;32m/usr/local/lib/python3.7/dist-packages/keras/utils/traceback_utils.py\u001b[0m in \u001b[0;36merror_handler\u001b[0;34m(*args, **kwargs)\u001b[0m\n\u001b[1;32m     62\u001b[0m     \u001b[0mfiltered_tb\u001b[0m \u001b[0;34m=\u001b[0m \u001b[0;32mNone\u001b[0m\u001b[0;34m\u001b[0m\u001b[0;34m\u001b[0m\u001b[0m\n\u001b[1;32m     63\u001b[0m     \u001b[0;32mtry\u001b[0m\u001b[0;34m:\u001b[0m\u001b[0;34m\u001b[0m\u001b[0;34m\u001b[0m\u001b[0m\n\u001b[0;32m---> 64\u001b[0;31m       \u001b[0;32mreturn\u001b[0m \u001b[0mfn\u001b[0m\u001b[0;34m(\u001b[0m\u001b[0;34m*\u001b[0m\u001b[0margs\u001b[0m\u001b[0;34m,\u001b[0m \u001b[0;34m**\u001b[0m\u001b[0mkwargs\u001b[0m\u001b[0;34m)\u001b[0m\u001b[0;34m\u001b[0m\u001b[0;34m\u001b[0m\u001b[0m\n\u001b[0m\u001b[1;32m     65\u001b[0m     \u001b[0;32mexcept\u001b[0m \u001b[0mException\u001b[0m \u001b[0;32mas\u001b[0m \u001b[0me\u001b[0m\u001b[0;34m:\u001b[0m  \u001b[0;31m# pylint: disable=broad-except\u001b[0m\u001b[0;34m\u001b[0m\u001b[0;34m\u001b[0m\u001b[0m\n\u001b[1;32m     66\u001b[0m       \u001b[0mfiltered_tb\u001b[0m \u001b[0;34m=\u001b[0m \u001b[0m_process_traceback_frames\u001b[0m\u001b[0;34m(\u001b[0m\u001b[0me\u001b[0m\u001b[0;34m.\u001b[0m\u001b[0m__traceback__\u001b[0m\u001b[0;34m)\u001b[0m\u001b[0;34m\u001b[0m\u001b[0;34m\u001b[0m\u001b[0m\n",
            "\u001b[0;32m/usr/local/lib/python3.7/dist-packages/keras/engine/training.py\u001b[0m in \u001b[0;36mevaluate\u001b[0;34m(self, x, y, batch_size, verbose, sample_weight, steps, callbacks, max_queue_size, workers, use_multiprocessing, return_dict, **kwargs)\u001b[0m\n\u001b[1;32m   1754\u001b[0m             \u001b[0;32mwith\u001b[0m \u001b[0mtf\u001b[0m\u001b[0;34m.\u001b[0m\u001b[0mprofiler\u001b[0m\u001b[0;34m.\u001b[0m\u001b[0mexperimental\u001b[0m\u001b[0;34m.\u001b[0m\u001b[0mTrace\u001b[0m\u001b[0;34m(\u001b[0m\u001b[0;34m'test'\u001b[0m\u001b[0;34m,\u001b[0m \u001b[0mstep_num\u001b[0m\u001b[0;34m=\u001b[0m\u001b[0mstep\u001b[0m\u001b[0;34m,\u001b[0m \u001b[0m_r\u001b[0m\u001b[0;34m=\u001b[0m\u001b[0;36m1\u001b[0m\u001b[0;34m)\u001b[0m\u001b[0;34m:\u001b[0m\u001b[0;34m\u001b[0m\u001b[0;34m\u001b[0m\u001b[0m\n\u001b[1;32m   1755\u001b[0m               \u001b[0mcallbacks\u001b[0m\u001b[0;34m.\u001b[0m\u001b[0mon_test_batch_begin\u001b[0m\u001b[0;34m(\u001b[0m\u001b[0mstep\u001b[0m\u001b[0;34m)\u001b[0m\u001b[0;34m\u001b[0m\u001b[0;34m\u001b[0m\u001b[0m\n\u001b[0;32m-> 1756\u001b[0;31m               \u001b[0mtmp_logs\u001b[0m \u001b[0;34m=\u001b[0m \u001b[0mself\u001b[0m\u001b[0;34m.\u001b[0m\u001b[0mtest_function\u001b[0m\u001b[0;34m(\u001b[0m\u001b[0miterator\u001b[0m\u001b[0;34m)\u001b[0m\u001b[0;34m\u001b[0m\u001b[0;34m\u001b[0m\u001b[0m\n\u001b[0m\u001b[1;32m   1757\u001b[0m               \u001b[0;32mif\u001b[0m \u001b[0mdata_handler\u001b[0m\u001b[0;34m.\u001b[0m\u001b[0mshould_sync\u001b[0m\u001b[0;34m:\u001b[0m\u001b[0;34m\u001b[0m\u001b[0;34m\u001b[0m\u001b[0m\n\u001b[1;32m   1758\u001b[0m                 \u001b[0mcontext\u001b[0m\u001b[0;34m.\u001b[0m\u001b[0masync_wait\u001b[0m\u001b[0;34m(\u001b[0m\u001b[0;34m)\u001b[0m\u001b[0;34m\u001b[0m\u001b[0;34m\u001b[0m\u001b[0m\n",
            "\u001b[0;32m/usr/local/lib/python3.7/dist-packages/tensorflow/python/util/traceback_utils.py\u001b[0m in \u001b[0;36merror_handler\u001b[0;34m(*args, **kwargs)\u001b[0m\n\u001b[1;32m    148\u001b[0m     \u001b[0mfiltered_tb\u001b[0m \u001b[0;34m=\u001b[0m \u001b[0;32mNone\u001b[0m\u001b[0;34m\u001b[0m\u001b[0;34m\u001b[0m\u001b[0m\n\u001b[1;32m    149\u001b[0m     \u001b[0;32mtry\u001b[0m\u001b[0;34m:\u001b[0m\u001b[0;34m\u001b[0m\u001b[0;34m\u001b[0m\u001b[0m\n\u001b[0;32m--> 150\u001b[0;31m       \u001b[0;32mreturn\u001b[0m \u001b[0mfn\u001b[0m\u001b[0;34m(\u001b[0m\u001b[0;34m*\u001b[0m\u001b[0margs\u001b[0m\u001b[0;34m,\u001b[0m \u001b[0;34m**\u001b[0m\u001b[0mkwargs\u001b[0m\u001b[0;34m)\u001b[0m\u001b[0;34m\u001b[0m\u001b[0;34m\u001b[0m\u001b[0m\n\u001b[0m\u001b[1;32m    151\u001b[0m     \u001b[0;32mexcept\u001b[0m \u001b[0mException\u001b[0m \u001b[0;32mas\u001b[0m \u001b[0me\u001b[0m\u001b[0;34m:\u001b[0m\u001b[0;34m\u001b[0m\u001b[0;34m\u001b[0m\u001b[0m\n\u001b[1;32m    152\u001b[0m       \u001b[0mfiltered_tb\u001b[0m \u001b[0;34m=\u001b[0m \u001b[0m_process_traceback_frames\u001b[0m\u001b[0;34m(\u001b[0m\u001b[0me\u001b[0m\u001b[0;34m.\u001b[0m\u001b[0m__traceback__\u001b[0m\u001b[0;34m)\u001b[0m\u001b[0;34m\u001b[0m\u001b[0;34m\u001b[0m\u001b[0m\n",
            "\u001b[0;32m/usr/local/lib/python3.7/dist-packages/tensorflow/python/eager/def_function.py\u001b[0m in \u001b[0;36m__call__\u001b[0;34m(self, *args, **kwds)\u001b[0m\n\u001b[1;32m    913\u001b[0m \u001b[0;34m\u001b[0m\u001b[0m\n\u001b[1;32m    914\u001b[0m       \u001b[0;32mwith\u001b[0m \u001b[0mOptionalXlaContext\u001b[0m\u001b[0;34m(\u001b[0m\u001b[0mself\u001b[0m\u001b[0;34m.\u001b[0m\u001b[0m_jit_compile\u001b[0m\u001b[0;34m)\u001b[0m\u001b[0;34m:\u001b[0m\u001b[0;34m\u001b[0m\u001b[0;34m\u001b[0m\u001b[0m\n\u001b[0;32m--> 915\u001b[0;31m         \u001b[0mresult\u001b[0m \u001b[0;34m=\u001b[0m \u001b[0mself\u001b[0m\u001b[0;34m.\u001b[0m\u001b[0m_call\u001b[0m\u001b[0;34m(\u001b[0m\u001b[0;34m*\u001b[0m\u001b[0margs\u001b[0m\u001b[0;34m,\u001b[0m \u001b[0;34m**\u001b[0m\u001b[0mkwds\u001b[0m\u001b[0;34m)\u001b[0m\u001b[0;34m\u001b[0m\u001b[0;34m\u001b[0m\u001b[0m\n\u001b[0m\u001b[1;32m    916\u001b[0m \u001b[0;34m\u001b[0m\u001b[0m\n\u001b[1;32m    917\u001b[0m       \u001b[0mnew_tracing_count\u001b[0m \u001b[0;34m=\u001b[0m \u001b[0mself\u001b[0m\u001b[0;34m.\u001b[0m\u001b[0mexperimental_get_tracing_count\u001b[0m\u001b[0;34m(\u001b[0m\u001b[0;34m)\u001b[0m\u001b[0;34m\u001b[0m\u001b[0;34m\u001b[0m\u001b[0m\n",
            "\u001b[0;32m/usr/local/lib/python3.7/dist-packages/tensorflow/python/eager/def_function.py\u001b[0m in \u001b[0;36m_call\u001b[0;34m(self, *args, **kwds)\u001b[0m\n\u001b[1;32m    952\u001b[0m       \u001b[0;31m# In this case we have not created variables on the first call. So we can\u001b[0m\u001b[0;34m\u001b[0m\u001b[0;34m\u001b[0m\u001b[0;34m\u001b[0m\u001b[0m\n\u001b[1;32m    953\u001b[0m       \u001b[0;31m# run the first trace but we should fail if variables are created.\u001b[0m\u001b[0;34m\u001b[0m\u001b[0;34m\u001b[0m\u001b[0;34m\u001b[0m\u001b[0m\n\u001b[0;32m--> 954\u001b[0;31m       \u001b[0mresults\u001b[0m \u001b[0;34m=\u001b[0m \u001b[0mself\u001b[0m\u001b[0;34m.\u001b[0m\u001b[0m_stateful_fn\u001b[0m\u001b[0;34m(\u001b[0m\u001b[0;34m*\u001b[0m\u001b[0margs\u001b[0m\u001b[0;34m,\u001b[0m \u001b[0;34m**\u001b[0m\u001b[0mkwds\u001b[0m\u001b[0;34m)\u001b[0m\u001b[0;34m\u001b[0m\u001b[0;34m\u001b[0m\u001b[0m\n\u001b[0m\u001b[1;32m    955\u001b[0m       \u001b[0;32mif\u001b[0m \u001b[0mself\u001b[0m\u001b[0;34m.\u001b[0m\u001b[0m_created_variables\u001b[0m \u001b[0;32mand\u001b[0m \u001b[0;32mnot\u001b[0m \u001b[0mALLOW_DYNAMIC_VARIABLE_CREATION\u001b[0m\u001b[0;34m:\u001b[0m\u001b[0;34m\u001b[0m\u001b[0;34m\u001b[0m\u001b[0m\n\u001b[1;32m    956\u001b[0m         raise ValueError(\"Creating variables on a non-first call to a function\"\n",
            "\u001b[0;32m/usr/local/lib/python3.7/dist-packages/tensorflow/python/eager/function.py\u001b[0m in \u001b[0;36m__call__\u001b[0;34m(self, *args, **kwargs)\u001b[0m\n\u001b[1;32m   2452\u001b[0m        filtered_flat_args) = self._maybe_define_function(args, kwargs)\n\u001b[1;32m   2453\u001b[0m     return graph_function._call_flat(\n\u001b[0;32m-> 2454\u001b[0;31m         filtered_flat_args, captured_inputs=graph_function.captured_inputs)  # pylint: disable=protected-access\n\u001b[0m\u001b[1;32m   2455\u001b[0m \u001b[0;34m\u001b[0m\u001b[0m\n\u001b[1;32m   2456\u001b[0m   \u001b[0;34m@\u001b[0m\u001b[0mproperty\u001b[0m\u001b[0;34m\u001b[0m\u001b[0;34m\u001b[0m\u001b[0m\n",
            "\u001b[0;32m/usr/local/lib/python3.7/dist-packages/tensorflow/python/eager/function.py\u001b[0m in \u001b[0;36m_call_flat\u001b[0;34m(self, args, captured_inputs, cancellation_manager)\u001b[0m\n\u001b[1;32m   1859\u001b[0m       \u001b[0;31m# No tape is watching; skip to running the function.\u001b[0m\u001b[0;34m\u001b[0m\u001b[0;34m\u001b[0m\u001b[0;34m\u001b[0m\u001b[0m\n\u001b[1;32m   1860\u001b[0m       return self._build_call_outputs(self._inference_function.call(\n\u001b[0;32m-> 1861\u001b[0;31m           ctx, args, cancellation_manager=cancellation_manager))\n\u001b[0m\u001b[1;32m   1862\u001b[0m     forward_backward = self._select_forward_and_backward_functions(\n\u001b[1;32m   1863\u001b[0m         \u001b[0margs\u001b[0m\u001b[0;34m,\u001b[0m\u001b[0;34m\u001b[0m\u001b[0;34m\u001b[0m\u001b[0m\n",
            "\u001b[0;32m/usr/local/lib/python3.7/dist-packages/tensorflow/python/eager/function.py\u001b[0m in \u001b[0;36mcall\u001b[0;34m(self, ctx, args, cancellation_manager)\u001b[0m\n\u001b[1;32m    500\u001b[0m               \u001b[0minputs\u001b[0m\u001b[0;34m=\u001b[0m\u001b[0margs\u001b[0m\u001b[0;34m,\u001b[0m\u001b[0;34m\u001b[0m\u001b[0;34m\u001b[0m\u001b[0m\n\u001b[1;32m    501\u001b[0m               \u001b[0mattrs\u001b[0m\u001b[0;34m=\u001b[0m\u001b[0mattrs\u001b[0m\u001b[0;34m,\u001b[0m\u001b[0;34m\u001b[0m\u001b[0;34m\u001b[0m\u001b[0m\n\u001b[0;32m--> 502\u001b[0;31m               ctx=ctx)\n\u001b[0m\u001b[1;32m    503\u001b[0m         \u001b[0;32melse\u001b[0m\u001b[0;34m:\u001b[0m\u001b[0;34m\u001b[0m\u001b[0;34m\u001b[0m\u001b[0m\n\u001b[1;32m    504\u001b[0m           outputs = execute.execute_with_cancellation(\n",
            "\u001b[0;32m/usr/local/lib/python3.7/dist-packages/tensorflow/python/eager/execute.py\u001b[0m in \u001b[0;36mquick_execute\u001b[0;34m(op_name, num_outputs, inputs, attrs, ctx, name)\u001b[0m\n\u001b[1;32m     53\u001b[0m     \u001b[0mctx\u001b[0m\u001b[0;34m.\u001b[0m\u001b[0mensure_initialized\u001b[0m\u001b[0;34m(\u001b[0m\u001b[0;34m)\u001b[0m\u001b[0;34m\u001b[0m\u001b[0;34m\u001b[0m\u001b[0m\n\u001b[1;32m     54\u001b[0m     tensors = pywrap_tfe.TFE_Py_Execute(ctx._handle, device_name, op_name,\n\u001b[0;32m---> 55\u001b[0;31m                                         inputs, attrs, num_outputs)\n\u001b[0m\u001b[1;32m     56\u001b[0m   \u001b[0;32mexcept\u001b[0m \u001b[0mcore\u001b[0m\u001b[0;34m.\u001b[0m\u001b[0m_NotOkStatusException\u001b[0m \u001b[0;32mas\u001b[0m \u001b[0me\u001b[0m\u001b[0;34m:\u001b[0m\u001b[0;34m\u001b[0m\u001b[0;34m\u001b[0m\u001b[0m\n\u001b[1;32m     57\u001b[0m     \u001b[0;32mif\u001b[0m \u001b[0mname\u001b[0m \u001b[0;32mis\u001b[0m \u001b[0;32mnot\u001b[0m \u001b[0;32mNone\u001b[0m\u001b[0;34m:\u001b[0m\u001b[0;34m\u001b[0m\u001b[0;34m\u001b[0m\u001b[0m\n",
            "\u001b[0;31mKeyboardInterrupt\u001b[0m: "
          ]
        }
      ],
      "source": [
        "# training model\n",
        "\n",
        "import datetime\n",
        "\n",
        "LOG_DIR = \"/content/drive/MyDrive/model_256x144/logs/fit/\" + \"model4(\" + datetime.datetime.now().strftime(\"%Y%m%d-%H%M%S\") + \")\"\n",
        "#LOG_DIR = f\"logs/fit/model2mae({datetime.datetime.now().strftime(\"%Y%m%d-%H%M%S\")})\"\n",
        "tensorboard_callback = tf.keras.callbacks.TensorBoard(log_dir=LOG_DIR, histogram_freq=0)\n",
        "\n",
        "MODEL_PATH = \"/content/drive/MyDrive/model_256x144/\"\n",
        "if not os.path.exists(MODEL_PATH):\n",
        "  os.makedirs(MODEL_PATH)\n",
        "save_callback = tf.keras.callbacks.ModelCheckpoint(\n",
        "    MODEL_PATH + \"/weights.{epoch:02d}-{val_loss:.6f}_256-144.hdf5\",\n",
        "    save_weights_only=True\n",
        ")\n",
        "\n",
        "# model.load_weights(\"/content/drive/MyDrive/models/weights.50-0.185150_256-144.hdf5\")\n",
        "# model.load_weights(\"/content/drive/MyDrive/model_256x144/\")\n",
        "\n",
        "with tf.device(\"/GPU:0\"):\n",
        "    history = model.fit(gen_train,\n",
        "                       epochs=93,\n",
        "                       validation_data=gen_val,\n",
        "                       callbacks=[tensorboard_callback, save_callback],\n",
        "                       verbose=1\n",
        "    )"
      ],
      "id": "90e383be"
    },
    {
      "cell_type": "code",
      "execution_count": null,
      "metadata": {
        "id": "58e57476",
        "scrolled": false
      },
      "outputs": [],
      "source": [
        "print(history.history.keys())\n",
        "plt.plot(history.history['loss'])\n",
        "plt.plot(history.history['val_loss'])\n",
        "plt.title('Model loss')\n",
        "plt.ylabel('loss')\n",
        "plt.xlabel('epoch')\n",
        "plt.legend(['train', 'val'], loc='upper right')\n",
        "plt.show()"
      ],
      "id": "58e57476"
    },
    {
      "cell_type": "code",
      "execution_count": null,
      "metadata": {
        "id": "wDLGztyxOnp4"
      },
      "outputs": [],
      "source": [
        "while True:\n",
        "  pass"
      ],
      "id": "wDLGztyxOnp4"
    }
  ],
  "metadata": {
    "accelerator": "GPU",
    "colab": {
      "collapsed_sections": [],
      "provenance": []
    },
    "gpuClass": "premium",
    "kernelspec": {
      "display_name": "Python 3 (ipykernel)",
      "language": "python",
      "name": "python3"
    },
    "language_info": {
      "codemirror_mode": {
        "name": "ipython",
        "version": 3
      },
      "file_extension": ".py",
      "mimetype": "text/x-python",
      "name": "python",
      "nbconvert_exporter": "python",
      "pygments_lexer": "ipython3",
      "version": "3.10.4"
    }
  },
  "nbformat": 4,
  "nbformat_minor": 5
}